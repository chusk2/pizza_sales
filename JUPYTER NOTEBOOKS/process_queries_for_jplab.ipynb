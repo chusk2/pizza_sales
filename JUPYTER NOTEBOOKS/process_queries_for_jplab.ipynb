{
 "cells": [
  {
   "cell_type": "code",
   "execution_count": 1,
   "id": "1a86644b-0557-48c8-a73a-2ef64106d08c",
   "metadata": {},
   "outputs": [],
   "source": [
    "with open('pizzeria_eda.sql', 'r') as file:\n",
    "    content = file.readlines()"
   ]
  },
  {
   "cell_type": "code",
   "execution_count": 19,
   "id": "0558cad0-f135-492d-875b-77241071f36d",
   "metadata": {},
   "outputs": [],
   "source": [
    "output = []\n",
    "for index, line in enumerate(content):\n",
    "    if line.startswith('select'):\n",
    "        output.append(f\"querydb('''\\n{line}\")\n",
    "    elif line.endswith(';\\n'):\n",
    "        output.append(f\"{line}''')\")\n",
    "    elif line.startswith('--'):\n",
    "        output.append(f'\\n\\n### {line[2:]}')\n",
    "    else:\n",
    "        output.append(line)"
   ]
  },
  {
   "cell_type": "code",
   "execution_count": 20,
   "id": "37b84321-dead-4abf-9c00-f23eff63a979",
   "metadata": {},
   "outputs": [],
   "source": [
    "with open('jplab_queries.txt', 'w') as file:\n",
    "    file.writelines(output)"
   ]
  },
  {
   "cell_type": "code",
   "execution_count": null,
   "id": "51729daf-92d0-4d70-aabf-efb7e3cd0efe",
   "metadata": {},
   "outputs": [],
   "source": []
  }
 ],
 "metadata": {
  "kernelspec": {
   "display_name": "Python 3 (ipykernel)",
   "language": "python",
   "name": "python3"
  },
  "language_info": {
   "codemirror_mode": {
    "name": "ipython",
    "version": 3
   },
   "file_extension": ".py",
   "mimetype": "text/x-python",
   "name": "python",
   "nbconvert_exporter": "python",
   "pygments_lexer": "ipython3",
   "version": "3.11.8"
  }
 },
 "nbformat": 4,
 "nbformat_minor": 5
}
