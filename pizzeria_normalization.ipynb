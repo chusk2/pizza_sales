{
 "cells": [
  {
   "cell_type": "markdown",
   "id": "0a09a489-a097-4d04-b9d3-d777bfcc19a6",
   "metadata": {},
   "source": [
    "# Database creation and Normalization of [Pizza Restaurant Sales @ kaggle.com](https://www.kaggle.com/datasets/shilongzhuang/pizza-sales)  \n",
    "## Performed by [danicoder](twitter.com/chusk2)"
   ]
  },
  {
   "cell_type": "code",
   "execution_count": 1,
   "id": "13553168-c7ca-4fe7-b191-ec88a947ee08",
   "metadata": {},
   "outputs": [],
   "source": [
    "import pandas as pd"
   ]
  },
  {
   "cell_type": "code",
   "execution_count": 2,
   "id": "5e2493bf-9e73-4c61-bbc1-52fce8a1d8bb",
   "metadata": {},
   "outputs": [],
   "source": [
    "df = pd.read_excel('pizza_sales.xlsx')"
   ]
  },
  {
   "cell_type": "code",
   "execution_count": 3,
   "id": "1b3cce74-7cae-4cb8-a686-671c235a2231",
   "metadata": {},
   "outputs": [
    {
     "data": {
      "text/html": [
       "<div>\n",
       "<style scoped>\n",
       "    .dataframe tbody tr th:only-of-type {\n",
       "        vertical-align: middle;\n",
       "    }\n",
       "\n",
       "    .dataframe tbody tr th {\n",
       "        vertical-align: top;\n",
       "    }\n",
       "\n",
       "    .dataframe thead th {\n",
       "        text-align: right;\n",
       "    }\n",
       "</style>\n",
       "<table border=\"1\" class=\"dataframe\">\n",
       "  <thead>\n",
       "    <tr style=\"text-align: right;\">\n",
       "      <th></th>\n",
       "      <th>order_details_id</th>\n",
       "      <th>order_id</th>\n",
       "      <th>pizza_id</th>\n",
       "      <th>quantity</th>\n",
       "      <th>order_date</th>\n",
       "      <th>order_time</th>\n",
       "      <th>unit_price</th>\n",
       "      <th>total_price</th>\n",
       "      <th>pizza_size</th>\n",
       "      <th>pizza_category</th>\n",
       "      <th>pizza_ingredients</th>\n",
       "      <th>pizza_name</th>\n",
       "    </tr>\n",
       "  </thead>\n",
       "  <tbody>\n",
       "    <tr>\n",
       "      <th>0</th>\n",
       "      <td>1</td>\n",
       "      <td>1</td>\n",
       "      <td>hawaiian_m</td>\n",
       "      <td>1</td>\n",
       "      <td>2015-01-01</td>\n",
       "      <td>11:38:36</td>\n",
       "      <td>13.25</td>\n",
       "      <td>13.25</td>\n",
       "      <td>M</td>\n",
       "      <td>Classic</td>\n",
       "      <td>Sliced Ham, Pineapple, Mozzarella Cheese</td>\n",
       "      <td>The Hawaiian Pizza</td>\n",
       "    </tr>\n",
       "    <tr>\n",
       "      <th>1</th>\n",
       "      <td>2</td>\n",
       "      <td>2</td>\n",
       "      <td>classic_dlx_m</td>\n",
       "      <td>1</td>\n",
       "      <td>2015-01-01</td>\n",
       "      <td>11:57:40</td>\n",
       "      <td>16.00</td>\n",
       "      <td>16.00</td>\n",
       "      <td>M</td>\n",
       "      <td>Classic</td>\n",
       "      <td>Pepperoni, Mushrooms, Red Onions, Red Peppers,...</td>\n",
       "      <td>The Classic Deluxe Pizza</td>\n",
       "    </tr>\n",
       "    <tr>\n",
       "      <th>2</th>\n",
       "      <td>3</td>\n",
       "      <td>2</td>\n",
       "      <td>five_cheese_l</td>\n",
       "      <td>1</td>\n",
       "      <td>2015-01-01</td>\n",
       "      <td>11:57:40</td>\n",
       "      <td>18.50</td>\n",
       "      <td>18.50</td>\n",
       "      <td>L</td>\n",
       "      <td>Veggie</td>\n",
       "      <td>Mozzarella Cheese, Provolone Cheese, Smoked Go...</td>\n",
       "      <td>The Five Cheese Pizza</td>\n",
       "    </tr>\n",
       "    <tr>\n",
       "      <th>3</th>\n",
       "      <td>4</td>\n",
       "      <td>2</td>\n",
       "      <td>ital_supr_l</td>\n",
       "      <td>1</td>\n",
       "      <td>2015-01-01</td>\n",
       "      <td>11:57:40</td>\n",
       "      <td>20.75</td>\n",
       "      <td>20.75</td>\n",
       "      <td>L</td>\n",
       "      <td>Supreme</td>\n",
       "      <td>Calabrese Salami, Capocollo, Tomatoes, Red Oni...</td>\n",
       "      <td>The Italian Supreme Pizza</td>\n",
       "    </tr>\n",
       "    <tr>\n",
       "      <th>4</th>\n",
       "      <td>5</td>\n",
       "      <td>2</td>\n",
       "      <td>mexicana_m</td>\n",
       "      <td>1</td>\n",
       "      <td>2015-01-01</td>\n",
       "      <td>11:57:40</td>\n",
       "      <td>16.00</td>\n",
       "      <td>16.00</td>\n",
       "      <td>M</td>\n",
       "      <td>Veggie</td>\n",
       "      <td>Tomatoes, Red Peppers, Jalapeno Peppers, Red O...</td>\n",
       "      <td>The Mexicana Pizza</td>\n",
       "    </tr>\n",
       "  </tbody>\n",
       "</table>\n",
       "</div>"
      ],
      "text/plain": [
       "   order_details_id  order_id       pizza_id  quantity order_date order_time  \\\n",
       "0                 1         1     hawaiian_m         1 2015-01-01   11:38:36   \n",
       "1                 2         2  classic_dlx_m         1 2015-01-01   11:57:40   \n",
       "2                 3         2  five_cheese_l         1 2015-01-01   11:57:40   \n",
       "3                 4         2    ital_supr_l         1 2015-01-01   11:57:40   \n",
       "4                 5         2     mexicana_m         1 2015-01-01   11:57:40   \n",
       "\n",
       "   unit_price  total_price pizza_size pizza_category  \\\n",
       "0       13.25        13.25          M        Classic   \n",
       "1       16.00        16.00          M        Classic   \n",
       "2       18.50        18.50          L         Veggie   \n",
       "3       20.75        20.75          L        Supreme   \n",
       "4       16.00        16.00          M         Veggie   \n",
       "\n",
       "                                   pizza_ingredients  \\\n",
       "0           Sliced Ham, Pineapple, Mozzarella Cheese   \n",
       "1  Pepperoni, Mushrooms, Red Onions, Red Peppers,...   \n",
       "2  Mozzarella Cheese, Provolone Cheese, Smoked Go...   \n",
       "3  Calabrese Salami, Capocollo, Tomatoes, Red Oni...   \n",
       "4  Tomatoes, Red Peppers, Jalapeno Peppers, Red O...   \n",
       "\n",
       "                  pizza_name  \n",
       "0         The Hawaiian Pizza  \n",
       "1   The Classic Deluxe Pizza  \n",
       "2      The Five Cheese Pizza  \n",
       "3  The Italian Supreme Pizza  \n",
       "4         The Mexicana Pizza  "
      ]
     },
     "execution_count": 3,
     "metadata": {},
     "output_type": "execute_result"
    }
   ],
   "source": [
    "df.head()"
   ]
  },
  {
   "cell_type": "markdown",
   "id": "27281f8f-d480-4af2-a96a-7162d8b1a8c5",
   "metadata": {},
   "source": [
    "## Modify pizza names"
   ]
  },
  {
   "cell_type": "code",
   "execution_count": 4,
   "id": "7a073d7c-d33b-4d72-99f4-fa68653a3e61",
   "metadata": {},
   "outputs": [
    {
     "data": {
      "text/plain": [
       "array(['The Hawaiian Pizza', 'The Classic Deluxe Pizza',\n",
       "       'The Five Cheese Pizza', 'The Italian Supreme Pizza',\n",
       "       'The Mexicana Pizza', 'The Thai Chicken Pizza',\n",
       "       'The Prosciutto and Arugula Pizza', 'The Barbecue Chicken Pizza',\n",
       "       'The Greek Pizza', 'The Spinach Supreme Pizza',\n",
       "       'The Green Garden Pizza', 'The Italian Capocollo Pizza',\n",
       "       'The Spicy Italian Pizza', 'The Spinach Pesto Pizza',\n",
       "       'The Vegetables + Vegetables Pizza', 'The Southwest Chicken Pizza',\n",
       "       'The California Chicken Pizza', 'The Pepperoni Pizza',\n",
       "       'The Chicken Pesto Pizza', 'The Big Meat Pizza',\n",
       "       'The Soppressata Pizza', 'The Four Cheese Pizza',\n",
       "       'The Napolitana Pizza', 'The Calabrese Pizza',\n",
       "       'The Italian Vegetables Pizza', 'The Mediterranean Pizza',\n",
       "       'The Pepper Salami Pizza', 'The Spinach and Feta Pizza',\n",
       "       'The Sicilian Pizza', 'The Chicken Alfredo Pizza',\n",
       "       'The Pepperoni, Mushroom, and Peppers Pizza',\n",
       "       'The Brie Carre Pizza'], dtype=object)"
      ]
     },
     "execution_count": 4,
     "metadata": {},
     "output_type": "execute_result"
    }
   ],
   "source": [
    "df.pizza_name.unique()"
   ]
  },
  {
   "cell_type": "markdown",
   "id": "bdaef4b5-1c9d-4a1a-8b27-c0c93a42183b",
   "metadata": {},
   "source": [
    "### Remove 'The ' and ' Pizza'"
   ]
  },
  {
   "cell_type": "code",
   "execution_count": 5,
   "id": "f08eaec9-876a-4fbc-b4e8-50dbada6840d",
   "metadata": {},
   "outputs": [],
   "source": [
    "df.pizza_name = df.pizza_name.apply(lambda x : x[4:-6].lower() )"
   ]
  },
  {
   "cell_type": "code",
   "execution_count": 6,
   "id": "1ff48bf0-7e41-49c3-a897-5acb34988ffb",
   "metadata": {},
   "outputs": [
    {
     "data": {
      "text/plain": [
       "array(['hawaiian', 'classic deluxe', 'five cheese', 'italian supreme',\n",
       "       'mexicana', 'thai chicken', 'prosciutto and arugula',\n",
       "       'barbecue chicken', 'greek', 'spinach supreme', 'green garden',\n",
       "       'italian capocollo', 'spicy italian', 'spinach pesto',\n",
       "       'vegetables + vegetables', 'southwest chicken',\n",
       "       'california chicken', 'pepperoni', 'chicken pesto', 'big meat',\n",
       "       'soppressata', 'four cheese', 'napolitana', 'calabrese',\n",
       "       'italian vegetables', 'mediterranean', 'pepper salami',\n",
       "       'spinach and feta', 'sicilian', 'chicken alfredo',\n",
       "       'pepperoni, mushroom, and peppers', 'brie carre'], dtype=object)"
      ]
     },
     "execution_count": 6,
     "metadata": {},
     "output_type": "execute_result"
    }
   ],
   "source": [
    "df.pizza_name.unique()"
   ]
  },
  {
   "cell_type": "markdown",
   "id": "7d15bf09-f002-4d8a-838b-03ed75d2744b",
   "metadata": {},
   "source": [
    "### Lowercase the pizza category"
   ]
  },
  {
   "cell_type": "code",
   "execution_count": 7,
   "id": "82afe1ca-2de2-4c24-967c-06860d0b7dd2",
   "metadata": {},
   "outputs": [],
   "source": [
    "df.loc[:,'pizza_category'] = df.pizza_category.str.lower()"
   ]
  },
  {
   "cell_type": "markdown",
   "id": "20098326-c3c6-4bdb-8171-6fb9ac2bfed5",
   "metadata": {},
   "source": [
    "## pizza table"
   ]
  },
  {
   "cell_type": "code",
   "execution_count": 8,
   "id": "5d57268a-8625-404b-aba5-d98dcea80d40",
   "metadata": {},
   "outputs": [],
   "source": [
    "pizzas = df[['pizza_name', 'pizza_category']].drop_duplicates().reset_index(drop=True)"
   ]
  },
  {
   "cell_type": "code",
   "execution_count": 9,
   "id": "09a06e4f-24fc-4007-b5b9-fa46503e52b5",
   "metadata": {},
   "outputs": [],
   "source": [
    "pizzas['pizza_id'] = [i + 1 for i in pizzas.index.to_list()]"
   ]
  },
  {
   "cell_type": "code",
   "execution_count": 10,
   "id": "97cd5e09-b339-4865-994a-0fc8b135a65e",
   "metadata": {},
   "outputs": [
    {
     "data": {
      "text/html": [
       "<div>\n",
       "<style scoped>\n",
       "    .dataframe tbody tr th:only-of-type {\n",
       "        vertical-align: middle;\n",
       "    }\n",
       "\n",
       "    .dataframe tbody tr th {\n",
       "        vertical-align: top;\n",
       "    }\n",
       "\n",
       "    .dataframe thead th {\n",
       "        text-align: right;\n",
       "    }\n",
       "</style>\n",
       "<table border=\"1\" class=\"dataframe\">\n",
       "  <thead>\n",
       "    <tr style=\"text-align: right;\">\n",
       "      <th></th>\n",
       "      <th>pizza_name</th>\n",
       "      <th>pizza_category</th>\n",
       "      <th>pizza_id</th>\n",
       "    </tr>\n",
       "  </thead>\n",
       "  <tbody>\n",
       "    <tr>\n",
       "      <th>28</th>\n",
       "      <td>sicilian</td>\n",
       "      <td>supreme</td>\n",
       "      <td>29</td>\n",
       "    </tr>\n",
       "    <tr>\n",
       "      <th>6</th>\n",
       "      <td>prosciutto and arugula</td>\n",
       "      <td>supreme</td>\n",
       "      <td>7</td>\n",
       "    </tr>\n",
       "    <tr>\n",
       "      <th>31</th>\n",
       "      <td>brie carre</td>\n",
       "      <td>supreme</td>\n",
       "      <td>32</td>\n",
       "    </tr>\n",
       "  </tbody>\n",
       "</table>\n",
       "</div>"
      ],
      "text/plain": [
       "                pizza_name pizza_category  pizza_id\n",
       "28                sicilian        supreme        29\n",
       "6   prosciutto and arugula        supreme         7\n",
       "31              brie carre        supreme        32"
      ]
     },
     "execution_count": 10,
     "metadata": {},
     "output_type": "execute_result"
    }
   ],
   "source": [
    "pizzas.sample(3)"
   ]
  },
  {
   "cell_type": "markdown",
   "id": "13f013b2-c127-46bf-983b-f60de596c65f",
   "metadata": {},
   "source": [
    "### Rearrange the columns in the pizza table"
   ]
  },
  {
   "cell_type": "code",
   "execution_count": 11,
   "id": "7407e55c-ad0c-4d5b-bd71-bbfa106ece58",
   "metadata": {},
   "outputs": [
    {
     "data": {
      "text/plain": [
       "Index(['pizza_name', 'pizza_category', 'pizza_id'], dtype='object')"
      ]
     },
     "execution_count": 11,
     "metadata": {},
     "output_type": "execute_result"
    }
   ],
   "source": [
    "pizzas.columns"
   ]
  },
  {
   "cell_type": "code",
   "execution_count": 12,
   "id": "55df2e12-956f-40ab-8e49-dfabed2cba82",
   "metadata": {},
   "outputs": [],
   "source": [
    "pizzas = pizzas[['pizza_id', 'pizza_name', 'pizza_category']]"
   ]
  },
  {
   "cell_type": "code",
   "execution_count": 13,
   "id": "6c4784d4-f04f-4075-96a2-93988a5c9b7f",
   "metadata": {},
   "outputs": [
    {
     "data": {
      "text/html": [
       "<div>\n",
       "<style scoped>\n",
       "    .dataframe tbody tr th:only-of-type {\n",
       "        vertical-align: middle;\n",
       "    }\n",
       "\n",
       "    .dataframe tbody tr th {\n",
       "        vertical-align: top;\n",
       "    }\n",
       "\n",
       "    .dataframe thead th {\n",
       "        text-align: right;\n",
       "    }\n",
       "</style>\n",
       "<table border=\"1\" class=\"dataframe\">\n",
       "  <thead>\n",
       "    <tr style=\"text-align: right;\">\n",
       "      <th></th>\n",
       "      <th>pizza_id</th>\n",
       "      <th>pizza_name</th>\n",
       "      <th>pizza_category</th>\n",
       "    </tr>\n",
       "  </thead>\n",
       "  <tbody>\n",
       "    <tr>\n",
       "      <th>0</th>\n",
       "      <td>1</td>\n",
       "      <td>hawaiian</td>\n",
       "      <td>classic</td>\n",
       "    </tr>\n",
       "    <tr>\n",
       "      <th>1</th>\n",
       "      <td>2</td>\n",
       "      <td>classic deluxe</td>\n",
       "      <td>classic</td>\n",
       "    </tr>\n",
       "    <tr>\n",
       "      <th>2</th>\n",
       "      <td>3</td>\n",
       "      <td>five cheese</td>\n",
       "      <td>veggie</td>\n",
       "    </tr>\n",
       "    <tr>\n",
       "      <th>3</th>\n",
       "      <td>4</td>\n",
       "      <td>italian supreme</td>\n",
       "      <td>supreme</td>\n",
       "    </tr>\n",
       "    <tr>\n",
       "      <th>4</th>\n",
       "      <td>5</td>\n",
       "      <td>mexicana</td>\n",
       "      <td>veggie</td>\n",
       "    </tr>\n",
       "    <tr>\n",
       "      <th>5</th>\n",
       "      <td>6</td>\n",
       "      <td>thai chicken</td>\n",
       "      <td>chicken</td>\n",
       "    </tr>\n",
       "    <tr>\n",
       "      <th>6</th>\n",
       "      <td>7</td>\n",
       "      <td>prosciutto and arugula</td>\n",
       "      <td>supreme</td>\n",
       "    </tr>\n",
       "    <tr>\n",
       "      <th>7</th>\n",
       "      <td>8</td>\n",
       "      <td>barbecue chicken</td>\n",
       "      <td>chicken</td>\n",
       "    </tr>\n",
       "    <tr>\n",
       "      <th>8</th>\n",
       "      <td>9</td>\n",
       "      <td>greek</td>\n",
       "      <td>classic</td>\n",
       "    </tr>\n",
       "    <tr>\n",
       "      <th>9</th>\n",
       "      <td>10</td>\n",
       "      <td>spinach supreme</td>\n",
       "      <td>supreme</td>\n",
       "    </tr>\n",
       "    <tr>\n",
       "      <th>10</th>\n",
       "      <td>11</td>\n",
       "      <td>green garden</td>\n",
       "      <td>veggie</td>\n",
       "    </tr>\n",
       "    <tr>\n",
       "      <th>11</th>\n",
       "      <td>12</td>\n",
       "      <td>italian capocollo</td>\n",
       "      <td>classic</td>\n",
       "    </tr>\n",
       "    <tr>\n",
       "      <th>12</th>\n",
       "      <td>13</td>\n",
       "      <td>spicy italian</td>\n",
       "      <td>supreme</td>\n",
       "    </tr>\n",
       "    <tr>\n",
       "      <th>13</th>\n",
       "      <td>14</td>\n",
       "      <td>spinach pesto</td>\n",
       "      <td>veggie</td>\n",
       "    </tr>\n",
       "    <tr>\n",
       "      <th>14</th>\n",
       "      <td>15</td>\n",
       "      <td>vegetables + vegetables</td>\n",
       "      <td>veggie</td>\n",
       "    </tr>\n",
       "    <tr>\n",
       "      <th>15</th>\n",
       "      <td>16</td>\n",
       "      <td>southwest chicken</td>\n",
       "      <td>chicken</td>\n",
       "    </tr>\n",
       "    <tr>\n",
       "      <th>16</th>\n",
       "      <td>17</td>\n",
       "      <td>california chicken</td>\n",
       "      <td>chicken</td>\n",
       "    </tr>\n",
       "    <tr>\n",
       "      <th>17</th>\n",
       "      <td>18</td>\n",
       "      <td>pepperoni</td>\n",
       "      <td>classic</td>\n",
       "    </tr>\n",
       "    <tr>\n",
       "      <th>18</th>\n",
       "      <td>19</td>\n",
       "      <td>chicken pesto</td>\n",
       "      <td>chicken</td>\n",
       "    </tr>\n",
       "    <tr>\n",
       "      <th>19</th>\n",
       "      <td>20</td>\n",
       "      <td>big meat</td>\n",
       "      <td>classic</td>\n",
       "    </tr>\n",
       "    <tr>\n",
       "      <th>20</th>\n",
       "      <td>21</td>\n",
       "      <td>soppressata</td>\n",
       "      <td>supreme</td>\n",
       "    </tr>\n",
       "    <tr>\n",
       "      <th>21</th>\n",
       "      <td>22</td>\n",
       "      <td>four cheese</td>\n",
       "      <td>veggie</td>\n",
       "    </tr>\n",
       "    <tr>\n",
       "      <th>22</th>\n",
       "      <td>23</td>\n",
       "      <td>napolitana</td>\n",
       "      <td>classic</td>\n",
       "    </tr>\n",
       "    <tr>\n",
       "      <th>23</th>\n",
       "      <td>24</td>\n",
       "      <td>calabrese</td>\n",
       "      <td>supreme</td>\n",
       "    </tr>\n",
       "    <tr>\n",
       "      <th>24</th>\n",
       "      <td>25</td>\n",
       "      <td>italian vegetables</td>\n",
       "      <td>veggie</td>\n",
       "    </tr>\n",
       "    <tr>\n",
       "      <th>25</th>\n",
       "      <td>26</td>\n",
       "      <td>mediterranean</td>\n",
       "      <td>veggie</td>\n",
       "    </tr>\n",
       "    <tr>\n",
       "      <th>26</th>\n",
       "      <td>27</td>\n",
       "      <td>pepper salami</td>\n",
       "      <td>supreme</td>\n",
       "    </tr>\n",
       "    <tr>\n",
       "      <th>27</th>\n",
       "      <td>28</td>\n",
       "      <td>spinach and feta</td>\n",
       "      <td>veggie</td>\n",
       "    </tr>\n",
       "    <tr>\n",
       "      <th>28</th>\n",
       "      <td>29</td>\n",
       "      <td>sicilian</td>\n",
       "      <td>supreme</td>\n",
       "    </tr>\n",
       "    <tr>\n",
       "      <th>29</th>\n",
       "      <td>30</td>\n",
       "      <td>chicken alfredo</td>\n",
       "      <td>chicken</td>\n",
       "    </tr>\n",
       "    <tr>\n",
       "      <th>30</th>\n",
       "      <td>31</td>\n",
       "      <td>pepperoni, mushroom, and peppers</td>\n",
       "      <td>classic</td>\n",
       "    </tr>\n",
       "    <tr>\n",
       "      <th>31</th>\n",
       "      <td>32</td>\n",
       "      <td>brie carre</td>\n",
       "      <td>supreme</td>\n",
       "    </tr>\n",
       "  </tbody>\n",
       "</table>\n",
       "</div>"
      ],
      "text/plain": [
       "    pizza_id                        pizza_name pizza_category\n",
       "0          1                          hawaiian        classic\n",
       "1          2                    classic deluxe        classic\n",
       "2          3                       five cheese         veggie\n",
       "3          4                   italian supreme        supreme\n",
       "4          5                          mexicana         veggie\n",
       "5          6                      thai chicken        chicken\n",
       "6          7            prosciutto and arugula        supreme\n",
       "7          8                  barbecue chicken        chicken\n",
       "8          9                             greek        classic\n",
       "9         10                   spinach supreme        supreme\n",
       "10        11                      green garden         veggie\n",
       "11        12                 italian capocollo        classic\n",
       "12        13                     spicy italian        supreme\n",
       "13        14                     spinach pesto         veggie\n",
       "14        15           vegetables + vegetables         veggie\n",
       "15        16                 southwest chicken        chicken\n",
       "16        17                california chicken        chicken\n",
       "17        18                         pepperoni        classic\n",
       "18        19                     chicken pesto        chicken\n",
       "19        20                          big meat        classic\n",
       "20        21                       soppressata        supreme\n",
       "21        22                       four cheese         veggie\n",
       "22        23                        napolitana        classic\n",
       "23        24                         calabrese        supreme\n",
       "24        25                italian vegetables         veggie\n",
       "25        26                     mediterranean         veggie\n",
       "26        27                     pepper salami        supreme\n",
       "27        28                  spinach and feta         veggie\n",
       "28        29                          sicilian        supreme\n",
       "29        30                   chicken alfredo        chicken\n",
       "30        31  pepperoni, mushroom, and peppers        classic\n",
       "31        32                        brie carre        supreme"
      ]
     },
     "execution_count": 13,
     "metadata": {},
     "output_type": "execute_result"
    }
   ],
   "source": [
    "pizzas"
   ]
  },
  {
   "cell_type": "markdown",
   "id": "f429a620-8b25-433a-87de-ee105d264138",
   "metadata": {},
   "source": [
    "## pizza_ingredients relation table"
   ]
  },
  {
   "cell_type": "code",
   "execution_count": 14,
   "id": "7dc28fd3-f2b9-4b46-9033-ec7c52873709",
   "metadata": {},
   "outputs": [],
   "source": [
    "pizza_ingredients = df[['pizza_name', 'pizza_ingredients']]"
   ]
  },
  {
   "cell_type": "code",
   "execution_count": 15,
   "id": "1476d8cd-19d3-4d6b-9f37-819bf70f1d2a",
   "metadata": {},
   "outputs": [],
   "source": [
    "pizza_ingredients = pizza_ingredients.drop_duplicates().reset_index(drop=True)"
   ]
  },
  {
   "cell_type": "code",
   "execution_count": 16,
   "id": "5fc8cf48-ccd8-4f88-beee-64f717532318",
   "metadata": {},
   "outputs": [
    {
     "data": {
      "text/html": [
       "<div>\n",
       "<style scoped>\n",
       "    .dataframe tbody tr th:only-of-type {\n",
       "        vertical-align: middle;\n",
       "    }\n",
       "\n",
       "    .dataframe tbody tr th {\n",
       "        vertical-align: top;\n",
       "    }\n",
       "\n",
       "    .dataframe thead th {\n",
       "        text-align: right;\n",
       "    }\n",
       "</style>\n",
       "<table border=\"1\" class=\"dataframe\">\n",
       "  <thead>\n",
       "    <tr style=\"text-align: right;\">\n",
       "      <th></th>\n",
       "      <th>pizza_name</th>\n",
       "      <th>pizza_ingredients</th>\n",
       "    </tr>\n",
       "  </thead>\n",
       "  <tbody>\n",
       "    <tr>\n",
       "      <th>0</th>\n",
       "      <td>hawaiian</td>\n",
       "      <td>Sliced Ham, Pineapple, Mozzarella Cheese</td>\n",
       "    </tr>\n",
       "    <tr>\n",
       "      <th>1</th>\n",
       "      <td>classic deluxe</td>\n",
       "      <td>Pepperoni, Mushrooms, Red Onions, Red Peppers,...</td>\n",
       "    </tr>\n",
       "    <tr>\n",
       "      <th>2</th>\n",
       "      <td>five cheese</td>\n",
       "      <td>Mozzarella Cheese, Provolone Cheese, Smoked Go...</td>\n",
       "    </tr>\n",
       "    <tr>\n",
       "      <th>3</th>\n",
       "      <td>italian supreme</td>\n",
       "      <td>Calabrese Salami, Capocollo, Tomatoes, Red Oni...</td>\n",
       "    </tr>\n",
       "    <tr>\n",
       "      <th>4</th>\n",
       "      <td>mexicana</td>\n",
       "      <td>Tomatoes, Red Peppers, Jalapeno Peppers, Red O...</td>\n",
       "    </tr>\n",
       "  </tbody>\n",
       "</table>\n",
       "</div>"
      ],
      "text/plain": [
       "        pizza_name                                  pizza_ingredients\n",
       "0         hawaiian           Sliced Ham, Pineapple, Mozzarella Cheese\n",
       "1   classic deluxe  Pepperoni, Mushrooms, Red Onions, Red Peppers,...\n",
       "2      five cheese  Mozzarella Cheese, Provolone Cheese, Smoked Go...\n",
       "3  italian supreme  Calabrese Salami, Capocollo, Tomatoes, Red Oni...\n",
       "4         mexicana  Tomatoes, Red Peppers, Jalapeno Peppers, Red O..."
      ]
     },
     "execution_count": 16,
     "metadata": {},
     "output_type": "execute_result"
    }
   ],
   "source": [
    "pizza_ingredients.head()"
   ]
  },
  {
   "cell_type": "markdown",
   "id": "9399a82e-7a94-473d-9259-e5697dcaf89d",
   "metadata": {},
   "source": [
    "### Assign every pizza_name to its pizza_id"
   ]
  },
  {
   "cell_type": "code",
   "execution_count": 17,
   "id": "a62d5f86-d22b-4ec9-a312-47a9904d2576",
   "metadata": {},
   "outputs": [],
   "source": [
    "pizza_ingredients['pizza_id'] = pizzas[pizzas.pizza_name == pizza_ingredients.pizza_name].pizza_id"
   ]
  },
  {
   "cell_type": "markdown",
   "id": "9a2cfdf5-6c53-4047-92d2-d41b3841f9c7",
   "metadata": {},
   "source": [
    "### Drop the pizza_name column:"
   ]
  },
  {
   "cell_type": "code",
   "execution_count": 18,
   "id": "f5070bf2-a9a7-49cc-bae5-966d797bbf8b",
   "metadata": {},
   "outputs": [],
   "source": [
    "pizza_ingredients.drop('pizza_name', axis=1, inplace = True)"
   ]
  },
  {
   "cell_type": "markdown",
   "id": "c1438988-a93a-4d24-9f1b-b5d5a4560c04",
   "metadata": {},
   "source": [
    "### Separate ingredients for each pizza name:"
   ]
  },
  {
   "cell_type": "code",
   "execution_count": 19,
   "id": "ed468d27-1c2e-4a5f-8d7c-9fdd19c406a7",
   "metadata": {},
   "outputs": [],
   "source": [
    "pizza_ingredients.pizza_ingredients = pizza_ingredients.pizza_ingredients.str.split(', ')"
   ]
  },
  {
   "cell_type": "code",
   "execution_count": 20,
   "id": "018e8160-8097-4dae-a0a2-c815e9b46260",
   "metadata": {},
   "outputs": [],
   "source": [
    "pizza_ingredients = pizza_ingredients.explode('pizza_ingredients')"
   ]
  },
  {
   "cell_type": "code",
   "execution_count": 21,
   "id": "2f021c99-f7d3-4f1d-81a3-8a4121b6978b",
   "metadata": {},
   "outputs": [],
   "source": [
    "pizza_ingredients['pizza_ingredients'] = pizza_ingredients.pizza_ingredients.str.lower()"
   ]
  },
  {
   "cell_type": "markdown",
   "id": "d110608d-4705-40d4-86a2-c0809fad0040",
   "metadata": {},
   "source": [
    "### Rename columns:"
   ]
  },
  {
   "cell_type": "code",
   "execution_count": 22,
   "id": "8b86da28-ef9f-499f-9b03-6d352d221814",
   "metadata": {},
   "outputs": [],
   "source": [
    "pizza_ingredients.rename(columns = {'pizza_ingredients' : 'ingredient_name'}, inplace = True)"
   ]
  },
  {
   "cell_type": "markdown",
   "id": "a3297490-7d1c-4e04-bb10-17dd2e73e608",
   "metadata": {},
   "source": [
    "### Rearrange columns:"
   ]
  },
  {
   "cell_type": "code",
   "execution_count": 23,
   "id": "e9d7538b-cc64-4994-bd1d-d9d17131dada",
   "metadata": {},
   "outputs": [],
   "source": [
    "pizza_ingredients = pizza_ingredients[['pizza_id', 'ingredient_name']]"
   ]
  },
  {
   "cell_type": "code",
   "execution_count": 24,
   "id": "d7761e5b-978e-46ad-96f0-49167d2e3fea",
   "metadata": {},
   "outputs": [
    {
     "data": {
      "text/html": [
       "<div>\n",
       "<style scoped>\n",
       "    .dataframe tbody tr th:only-of-type {\n",
       "        vertical-align: middle;\n",
       "    }\n",
       "\n",
       "    .dataframe tbody tr th {\n",
       "        vertical-align: top;\n",
       "    }\n",
       "\n",
       "    .dataframe thead th {\n",
       "        text-align: right;\n",
       "    }\n",
       "</style>\n",
       "<table border=\"1\" class=\"dataframe\">\n",
       "  <thead>\n",
       "    <tr style=\"text-align: right;\">\n",
       "      <th></th>\n",
       "      <th>pizza_id</th>\n",
       "      <th>ingredient_name</th>\n",
       "    </tr>\n",
       "  </thead>\n",
       "  <tbody>\n",
       "    <tr>\n",
       "      <th>0</th>\n",
       "      <td>1</td>\n",
       "      <td>sliced ham</td>\n",
       "    </tr>\n",
       "    <tr>\n",
       "      <th>0</th>\n",
       "      <td>1</td>\n",
       "      <td>pineapple</td>\n",
       "    </tr>\n",
       "    <tr>\n",
       "      <th>0</th>\n",
       "      <td>1</td>\n",
       "      <td>mozzarella cheese</td>\n",
       "    </tr>\n",
       "    <tr>\n",
       "      <th>1</th>\n",
       "      <td>2</td>\n",
       "      <td>pepperoni</td>\n",
       "    </tr>\n",
       "    <tr>\n",
       "      <th>1</th>\n",
       "      <td>2</td>\n",
       "      <td>mushrooms</td>\n",
       "    </tr>\n",
       "  </tbody>\n",
       "</table>\n",
       "</div>"
      ],
      "text/plain": [
       "   pizza_id    ingredient_name\n",
       "0         1         sliced ham\n",
       "0         1          pineapple\n",
       "0         1  mozzarella cheese\n",
       "1         2          pepperoni\n",
       "1         2          mushrooms"
      ]
     },
     "execution_count": 24,
     "metadata": {},
     "output_type": "execute_result"
    }
   ],
   "source": [
    "pizza_ingredients.head()"
   ]
  },
  {
   "cell_type": "code",
   "execution_count": 25,
   "id": "104c109e-ebda-46e6-bfcf-e9f2f422b2b0",
   "metadata": {},
   "outputs": [
    {
     "data": {
      "text/html": [
       "<div>\n",
       "<style scoped>\n",
       "    .dataframe tbody tr th:only-of-type {\n",
       "        vertical-align: middle;\n",
       "    }\n",
       "\n",
       "    .dataframe tbody tr th {\n",
       "        vertical-align: top;\n",
       "    }\n",
       "\n",
       "    .dataframe thead th {\n",
       "        text-align: right;\n",
       "    }\n",
       "</style>\n",
       "<table border=\"1\" class=\"dataframe\">\n",
       "  <thead>\n",
       "    <tr style=\"text-align: right;\">\n",
       "      <th></th>\n",
       "      <th>pizza_id</th>\n",
       "      <th>ingredient_name</th>\n",
       "    </tr>\n",
       "  </thead>\n",
       "  <tbody>\n",
       "    <tr>\n",
       "      <th>19</th>\n",
       "      <td>20</td>\n",
       "      <td>chorizo sausage</td>\n",
       "    </tr>\n",
       "    <tr>\n",
       "      <th>21</th>\n",
       "      <td>22</td>\n",
       "      <td>gorgonzola piccante cheese</td>\n",
       "    </tr>\n",
       "    <tr>\n",
       "      <th>24</th>\n",
       "      <td>25</td>\n",
       "      <td>pesto sauce</td>\n",
       "    </tr>\n",
       "  </tbody>\n",
       "</table>\n",
       "</div>"
      ],
      "text/plain": [
       "    pizza_id             ingredient_name\n",
       "19        20             chorizo sausage\n",
       "21        22  gorgonzola piccante cheese\n",
       "24        25                 pesto sauce"
      ]
     },
     "execution_count": 25,
     "metadata": {},
     "output_type": "execute_result"
    }
   ],
   "source": [
    "pizza_ingredients.sample(3)"
   ]
  },
  {
   "cell_type": "markdown",
   "id": "72dc228e-571d-43d7-bc72-5be100fdd2c4",
   "metadata": {},
   "source": [
    "## *ingredients* table"
   ]
  },
  {
   "cell_type": "markdown",
   "id": "923c0576-896c-41f7-870c-e1a6205f9ca8",
   "metadata": {},
   "source": [
    "### Get the unique ingredients from the previous table"
   ]
  },
  {
   "cell_type": "code",
   "execution_count": 26,
   "id": "5d31a472-ecc2-48fc-9d1a-9771f5ebeb3e",
   "metadata": {},
   "outputs": [],
   "source": [
    "ingredients = pd.DataFrame({'ingredient_name' : pizza_ingredients.ingredient_name.unique() })"
   ]
  },
  {
   "cell_type": "markdown",
   "id": "7503fd6a-e4f4-4f54-913b-2dd0e4f5296e",
   "metadata": {},
   "source": [
    "### Create an ingredient_id column"
   ]
  },
  {
   "cell_type": "code",
   "execution_count": 27,
   "id": "3d9cafa0-2a5b-41af-8cbb-baae60ef96c1",
   "metadata": {},
   "outputs": [],
   "source": [
    "ingredients['ingredient_id'] = range(1, ingredients.shape[0] + 1)"
   ]
  },
  {
   "cell_type": "markdown",
   "id": "f8f71bc9-2295-43d6-85ff-9dafcbf48a76",
   "metadata": {},
   "source": [
    "### Rearrange columns"
   ]
  },
  {
   "cell_type": "code",
   "execution_count": 28,
   "id": "71f4bc77-b7c9-4549-beb1-42843ea7bfb3",
   "metadata": {},
   "outputs": [],
   "source": [
    "ingredients = ingredients[['ingredient_id', 'ingredient_name']]"
   ]
  },
  {
   "cell_type": "code",
   "execution_count": 29,
   "id": "b3394974-f5c3-4ffe-84b9-80222a729ab2",
   "metadata": {},
   "outputs": [
    {
     "data": {
      "text/html": [
       "<div>\n",
       "<style scoped>\n",
       "    .dataframe tbody tr th:only-of-type {\n",
       "        vertical-align: middle;\n",
       "    }\n",
       "\n",
       "    .dataframe tbody tr th {\n",
       "        vertical-align: top;\n",
       "    }\n",
       "\n",
       "    .dataframe thead th {\n",
       "        text-align: right;\n",
       "    }\n",
       "</style>\n",
       "<table border=\"1\" class=\"dataframe\">\n",
       "  <thead>\n",
       "    <tr style=\"text-align: right;\">\n",
       "      <th></th>\n",
       "      <th>ingredient_id</th>\n",
       "      <th>ingredient_name</th>\n",
       "    </tr>\n",
       "  </thead>\n",
       "  <tbody>\n",
       "    <tr>\n",
       "      <th>38</th>\n",
       "      <td>39</td>\n",
       "      <td>pesto sauce</td>\n",
       "    </tr>\n",
       "    <tr>\n",
       "      <th>58</th>\n",
       "      <td>59</td>\n",
       "      <td>onions</td>\n",
       "    </tr>\n",
       "    <tr>\n",
       "      <th>28</th>\n",
       "      <td>29</td>\n",
       "      <td>kalamata olives</td>\n",
       "    </tr>\n",
       "  </tbody>\n",
       "</table>\n",
       "</div>"
      ],
      "text/plain": [
       "    ingredient_id  ingredient_name\n",
       "38             39      pesto sauce\n",
       "58             59           onions\n",
       "28             29  kalamata olives"
      ]
     },
     "execution_count": 29,
     "metadata": {},
     "output_type": "execute_result"
    }
   ],
   "source": [
    "ingredients.sample(3)"
   ]
  },
  {
   "cell_type": "markdown",
   "id": "06a193c1-ef19-4118-8b36-e27f369d4591",
   "metadata": {},
   "source": [
    "## pizza_ingredients.ingredient $\\rightarrow$ pizza_ingredients.ingredient_id (using ingredients table)"
   ]
  },
  {
   "cell_type": "code",
   "execution_count": 30,
   "id": "ec770726-cf20-472f-bebb-634ced2fcb9a",
   "metadata": {},
   "outputs": [],
   "source": [
    "pizza_ingredients['ingredient_id'] = [ ingredients[ingredients.ingredient_name == i].ingredient_id.values[0] for i in pizza_ingredients.ingredient_name]"
   ]
  },
  {
   "cell_type": "markdown",
   "id": "2022e47f-db84-4b37-95a9-c472244647ed",
   "metadata": {},
   "source": [
    "### Remove the ingredient_name from the pizza_ingredients table"
   ]
  },
  {
   "cell_type": "code",
   "execution_count": 31,
   "id": "9d089d2e-e8e9-4fdd-93e6-b5416cafdda0",
   "metadata": {},
   "outputs": [],
   "source": [
    "pizza_ingredients.drop('ingredient_name', axis=1, inplace = True)"
   ]
  },
  {
   "cell_type": "markdown",
   "id": "d1afac42-7da5-4037-bdde-bf0212bdf49b",
   "metadata": {},
   "source": [
    "## *pizza_prices* table"
   ]
  },
  {
   "cell_type": "code",
   "execution_count": 32,
   "id": "1d0164be-c31f-4528-8c05-acdd12fad1f4",
   "metadata": {},
   "outputs": [],
   "source": [
    "pizza_prices = df[['pizza_name', 'pizza_size', 'unit_price']].drop_duplicates().reset_index(drop=True)"
   ]
  },
  {
   "cell_type": "code",
   "execution_count": 33,
   "id": "4b6d66c8-a483-40e5-afac-6296f294dae9",
   "metadata": {},
   "outputs": [],
   "source": [
    "pizza_prices['pizza_id'] = [pizzas[pizzas.pizza_name == i].pizza_id.values[0] for i in pizza_prices.pizza_name]"
   ]
  },
  {
   "cell_type": "code",
   "execution_count": 34,
   "id": "a16d99f2-d9d4-46c0-8d3e-1f4a63851140",
   "metadata": {},
   "outputs": [
    {
     "data": {
      "text/html": [
       "<div>\n",
       "<style scoped>\n",
       "    .dataframe tbody tr th:only-of-type {\n",
       "        vertical-align: middle;\n",
       "    }\n",
       "\n",
       "    .dataframe tbody tr th {\n",
       "        vertical-align: top;\n",
       "    }\n",
       "\n",
       "    .dataframe thead th {\n",
       "        text-align: right;\n",
       "    }\n",
       "</style>\n",
       "<table border=\"1\" class=\"dataframe\">\n",
       "  <thead>\n",
       "    <tr style=\"text-align: right;\">\n",
       "      <th></th>\n",
       "      <th>pizza_name</th>\n",
       "      <th>pizza_size</th>\n",
       "      <th>unit_price</th>\n",
       "      <th>pizza_id</th>\n",
       "    </tr>\n",
       "  </thead>\n",
       "  <tbody>\n",
       "    <tr>\n",
       "      <th>0</th>\n",
       "      <td>hawaiian</td>\n",
       "      <td>M</td>\n",
       "      <td>13.25</td>\n",
       "      <td>1</td>\n",
       "    </tr>\n",
       "    <tr>\n",
       "      <th>51</th>\n",
       "      <td>hawaiian</td>\n",
       "      <td>S</td>\n",
       "      <td>10.50</td>\n",
       "      <td>1</td>\n",
       "    </tr>\n",
       "    <tr>\n",
       "      <th>60</th>\n",
       "      <td>hawaiian</td>\n",
       "      <td>L</td>\n",
       "      <td>16.50</td>\n",
       "      <td>1</td>\n",
       "    </tr>\n",
       "    <tr>\n",
       "      <th>1</th>\n",
       "      <td>classic deluxe</td>\n",
       "      <td>M</td>\n",
       "      <td>16.00</td>\n",
       "      <td>2</td>\n",
       "    </tr>\n",
       "    <tr>\n",
       "      <th>57</th>\n",
       "      <td>classic deluxe</td>\n",
       "      <td>L</td>\n",
       "      <td>20.50</td>\n",
       "      <td>2</td>\n",
       "    </tr>\n",
       "    <tr>\n",
       "      <th>...</th>\n",
       "      <td>...</td>\n",
       "      <td>...</td>\n",
       "      <td>...</td>\n",
       "      <td>...</td>\n",
       "    </tr>\n",
       "    <tr>\n",
       "      <th>53</th>\n",
       "      <td>chicken alfredo</td>\n",
       "      <td>M</td>\n",
       "      <td>16.75</td>\n",
       "      <td>30</td>\n",
       "    </tr>\n",
       "    <tr>\n",
       "      <th>50</th>\n",
       "      <td>pepperoni, mushroom, and peppers</td>\n",
       "      <td>L</td>\n",
       "      <td>17.50</td>\n",
       "      <td>31</td>\n",
       "    </tr>\n",
       "    <tr>\n",
       "      <th>66</th>\n",
       "      <td>pepperoni, mushroom, and peppers</td>\n",
       "      <td>M</td>\n",
       "      <td>14.50</td>\n",
       "      <td>31</td>\n",
       "    </tr>\n",
       "    <tr>\n",
       "      <th>61</th>\n",
       "      <td>pepperoni, mushroom, and peppers</td>\n",
       "      <td>S</td>\n",
       "      <td>11.00</td>\n",
       "      <td>31</td>\n",
       "    </tr>\n",
       "    <tr>\n",
       "      <th>83</th>\n",
       "      <td>brie carre</td>\n",
       "      <td>S</td>\n",
       "      <td>23.65</td>\n",
       "      <td>32</td>\n",
       "    </tr>\n",
       "  </tbody>\n",
       "</table>\n",
       "<p>91 rows × 4 columns</p>\n",
       "</div>"
      ],
      "text/plain": [
       "                          pizza_name pizza_size  unit_price  pizza_id\n",
       "0                           hawaiian          M       13.25         1\n",
       "51                          hawaiian          S       10.50         1\n",
       "60                          hawaiian          L       16.50         1\n",
       "1                     classic deluxe          M       16.00         2\n",
       "57                    classic deluxe          L       20.50         2\n",
       "..                               ...        ...         ...       ...\n",
       "53                   chicken alfredo          M       16.75        30\n",
       "50  pepperoni, mushroom, and peppers          L       17.50        31\n",
       "66  pepperoni, mushroom, and peppers          M       14.50        31\n",
       "61  pepperoni, mushroom, and peppers          S       11.00        31\n",
       "83                        brie carre          S       23.65        32\n",
       "\n",
       "[91 rows x 4 columns]"
      ]
     },
     "execution_count": 34,
     "metadata": {},
     "output_type": "execute_result"
    }
   ],
   "source": [
    "pizza_prices.sort_values('pizza_id')"
   ]
  },
  {
   "cell_type": "markdown",
   "id": "1642a5c6-3374-4cca-a52e-80b1fe471ec4",
   "metadata": {},
   "source": [
    "### Remove the *pizza_name* column and rearrange the columns"
   ]
  },
  {
   "cell_type": "code",
   "execution_count": 36,
   "id": "9b0ce194-f92c-4837-b783-67a0a269de5e",
   "metadata": {},
   "outputs": [],
   "source": [
    "pizza_prices = pizza_prices[['pizza_id', 'pizza_size', 'unit_price']]"
   ]
  },
  {
   "cell_type": "markdown",
   "id": "e21d5f93-a38b-4897-b09b-938354550474",
   "metadata": {},
   "source": [
    "### Sort the *prices* values by *pizza_id* column"
   ]
  },
  {
   "cell_type": "code",
   "execution_count": 37,
   "id": "5b4ad568-a204-49e1-a653-6f851a1675f3",
   "metadata": {},
   "outputs": [],
   "source": [
    "pizza_prices = pizza_prices.sort_values(['pizza_id', 'unit_price']).reset_index(drop=True)"
   ]
  },
  {
   "cell_type": "code",
   "execution_count": 38,
   "id": "3b8c4aa4-93b1-4911-81d0-15638b7e096c",
   "metadata": {},
   "outputs": [
    {
     "data": {
      "text/html": [
       "<div>\n",
       "<style scoped>\n",
       "    .dataframe tbody tr th:only-of-type {\n",
       "        vertical-align: middle;\n",
       "    }\n",
       "\n",
       "    .dataframe tbody tr th {\n",
       "        vertical-align: top;\n",
       "    }\n",
       "\n",
       "    .dataframe thead th {\n",
       "        text-align: right;\n",
       "    }\n",
       "</style>\n",
       "<table border=\"1\" class=\"dataframe\">\n",
       "  <thead>\n",
       "    <tr style=\"text-align: right;\">\n",
       "      <th></th>\n",
       "      <th>pizza_id</th>\n",
       "      <th>pizza_size</th>\n",
       "      <th>unit_price</th>\n",
       "    </tr>\n",
       "  </thead>\n",
       "  <tbody>\n",
       "    <tr>\n",
       "      <th>0</th>\n",
       "      <td>1</td>\n",
       "      <td>S</td>\n",
       "      <td>10.50</td>\n",
       "    </tr>\n",
       "    <tr>\n",
       "      <th>1</th>\n",
       "      <td>1</td>\n",
       "      <td>M</td>\n",
       "      <td>13.25</td>\n",
       "    </tr>\n",
       "    <tr>\n",
       "      <th>2</th>\n",
       "      <td>1</td>\n",
       "      <td>L</td>\n",
       "      <td>16.50</td>\n",
       "    </tr>\n",
       "    <tr>\n",
       "      <th>3</th>\n",
       "      <td>2</td>\n",
       "      <td>S</td>\n",
       "      <td>12.00</td>\n",
       "    </tr>\n",
       "    <tr>\n",
       "      <th>4</th>\n",
       "      <td>2</td>\n",
       "      <td>M</td>\n",
       "      <td>16.00</td>\n",
       "    </tr>\n",
       "    <tr>\n",
       "      <th>...</th>\n",
       "      <td>...</td>\n",
       "      <td>...</td>\n",
       "      <td>...</td>\n",
       "    </tr>\n",
       "    <tr>\n",
       "      <th>86</th>\n",
       "      <td>30</td>\n",
       "      <td>L</td>\n",
       "      <td>20.75</td>\n",
       "    </tr>\n",
       "    <tr>\n",
       "      <th>87</th>\n",
       "      <td>31</td>\n",
       "      <td>S</td>\n",
       "      <td>11.00</td>\n",
       "    </tr>\n",
       "    <tr>\n",
       "      <th>88</th>\n",
       "      <td>31</td>\n",
       "      <td>M</td>\n",
       "      <td>14.50</td>\n",
       "    </tr>\n",
       "    <tr>\n",
       "      <th>89</th>\n",
       "      <td>31</td>\n",
       "      <td>L</td>\n",
       "      <td>17.50</td>\n",
       "    </tr>\n",
       "    <tr>\n",
       "      <th>90</th>\n",
       "      <td>32</td>\n",
       "      <td>S</td>\n",
       "      <td>23.65</td>\n",
       "    </tr>\n",
       "  </tbody>\n",
       "</table>\n",
       "<p>91 rows × 3 columns</p>\n",
       "</div>"
      ],
      "text/plain": [
       "    pizza_id pizza_size  unit_price\n",
       "0          1          S       10.50\n",
       "1          1          M       13.25\n",
       "2          1          L       16.50\n",
       "3          2          S       12.00\n",
       "4          2          M       16.00\n",
       "..       ...        ...         ...\n",
       "86        30          L       20.75\n",
       "87        31          S       11.00\n",
       "88        31          M       14.50\n",
       "89        31          L       17.50\n",
       "90        32          S       23.65\n",
       "\n",
       "[91 rows x 3 columns]"
      ]
     },
     "execution_count": 38,
     "metadata": {},
     "output_type": "execute_result"
    }
   ],
   "source": [
    "pizza_prices"
   ]
  },
  {
   "cell_type": "markdown",
   "id": "41e71743-dff0-4dbf-a204-67b88a188875",
   "metadata": {},
   "source": [
    "## *orders* table"
   ]
  },
  {
   "cell_type": "code",
   "execution_count": 39,
   "id": "0cdb4a1b-6893-4562-85a6-ead2153a234d",
   "metadata": {},
   "outputs": [],
   "source": [
    "orders = df[['order_details_id', 'order_id', 'pizza_id', 'quantity', 'order_date', 'order_time', 'pizza_name']]"
   ]
  },
  {
   "cell_type": "code",
   "execution_count": 40,
   "id": "5f24d1ba-b321-4c77-a84a-65049372e2e9",
   "metadata": {},
   "outputs": [
    {
     "data": {
      "text/html": [
       "<div>\n",
       "<style scoped>\n",
       "    .dataframe tbody tr th:only-of-type {\n",
       "        vertical-align: middle;\n",
       "    }\n",
       "\n",
       "    .dataframe tbody tr th {\n",
       "        vertical-align: top;\n",
       "    }\n",
       "\n",
       "    .dataframe thead th {\n",
       "        text-align: right;\n",
       "    }\n",
       "</style>\n",
       "<table border=\"1\" class=\"dataframe\">\n",
       "  <thead>\n",
       "    <tr style=\"text-align: right;\">\n",
       "      <th></th>\n",
       "      <th>order_details_id</th>\n",
       "      <th>order_id</th>\n",
       "      <th>pizza_id</th>\n",
       "      <th>quantity</th>\n",
       "      <th>order_date</th>\n",
       "      <th>order_time</th>\n",
       "      <th>pizza_name</th>\n",
       "    </tr>\n",
       "  </thead>\n",
       "  <tbody>\n",
       "    <tr>\n",
       "      <th>22830</th>\n",
       "      <td>22831</td>\n",
       "      <td>10036</td>\n",
       "      <td>spicy_ital_m</td>\n",
       "      <td>1</td>\n",
       "      <td>2015-06-17</td>\n",
       "      <td>18:59:12</td>\n",
       "      <td>spicy italian</td>\n",
       "    </tr>\n",
       "    <tr>\n",
       "      <th>41157</th>\n",
       "      <td>41158</td>\n",
       "      <td>18129</td>\n",
       "      <td>five_cheese_l</td>\n",
       "      <td>1</td>\n",
       "      <td>2015-11-05</td>\n",
       "      <td>18:28:21</td>\n",
       "      <td>five cheese</td>\n",
       "    </tr>\n",
       "    <tr>\n",
       "      <th>17760</th>\n",
       "      <td>17761</td>\n",
       "      <td>7796</td>\n",
       "      <td>classic_dlx_m</td>\n",
       "      <td>1</td>\n",
       "      <td>2015-05-11</td>\n",
       "      <td>17:28:36</td>\n",
       "      <td>classic deluxe</td>\n",
       "    </tr>\n",
       "  </tbody>\n",
       "</table>\n",
       "</div>"
      ],
      "text/plain": [
       "       order_details_id  order_id       pizza_id  quantity order_date  \\\n",
       "22830             22831     10036   spicy_ital_m         1 2015-06-17   \n",
       "41157             41158     18129  five_cheese_l         1 2015-11-05   \n",
       "17760             17761      7796  classic_dlx_m         1 2015-05-11   \n",
       "\n",
       "      order_time      pizza_name  \n",
       "22830   18:59:12   spicy italian  \n",
       "41157   18:28:21     five cheese  \n",
       "17760   17:28:36  classic deluxe  "
      ]
     },
     "execution_count": 40,
     "metadata": {},
     "output_type": "execute_result"
    }
   ],
   "source": [
    "orders.sample(3)"
   ]
  },
  {
   "cell_type": "markdown",
   "id": "924d817d-65df-49fc-8996-a23015a6c5d6",
   "metadata": {},
   "source": [
    "### Get the size of the ordered pizza:"
   ]
  },
  {
   "cell_type": "code",
   "execution_count": 41,
   "id": "5f391820-80cc-443f-ac85-6e1e0cfb31ee",
   "metadata": {},
   "outputs": [
    {
     "name": "stderr",
     "output_type": "stream",
     "text": [
      "/tmp/ipykernel_4902/1428038520.py:1: SettingWithCopyWarning: \n",
      "A value is trying to be set on a copy of a slice from a DataFrame.\n",
      "Try using .loc[row_indexer,col_indexer] = value instead\n",
      "\n",
      "See the caveats in the documentation: https://pandas.pydata.org/pandas-docs/stable/user_guide/indexing.html#returning-a-view-versus-a-copy\n",
      "  orders.loc[:, 'pizza_size'] = orders.pizza_id.apply(lambda x : x.split('_')[-1].upper() )\n"
     ]
    }
   ],
   "source": [
    "orders.loc[:, 'pizza_size'] = orders.pizza_id.apply(lambda x : x.split('_')[-1].upper() )"
   ]
  },
  {
   "cell_type": "markdown",
   "id": "a4f41697-4d91-4903-b883-b178f46e1898",
   "metadata": {},
   "source": [
    "### Change the string in *pizza_id* column by its *pizza_id* **numerical value**."
   ]
  },
  {
   "cell_type": "code",
   "execution_count": 42,
   "id": "a4c78b81-442a-4959-abe8-95f34ed3ac78",
   "metadata": {
    "scrolled": true
   },
   "outputs": [],
   "source": [
    "orders.loc[:, 'pizza_id'] = orders.pizza_name.apply(lambda x : pizzas[pizzas.pizza_name == x].pizza_id.values[0])"
   ]
  },
  {
   "cell_type": "markdown",
   "id": "9b713b6d-ae7e-4163-853b-907c7b78bc63",
   "metadata": {},
   "source": [
    "### Create timestamp column concatenating date and time:"
   ]
  },
  {
   "cell_type": "code",
   "execution_count": 43,
   "id": "af229aae-6e34-4d5c-a506-b3477c2dbe49",
   "metadata": {},
   "outputs": [
    {
     "name": "stderr",
     "output_type": "stream",
     "text": [
      "/tmp/ipykernel_4902/3169981229.py:1: SettingWithCopyWarning: \n",
      "A value is trying to be set on a copy of a slice from a DataFrame.\n",
      "Try using .loc[row_indexer,col_indexer] = value instead\n",
      "\n",
      "See the caveats in the documentation: https://pandas.pydata.org/pandas-docs/stable/user_guide/indexing.html#returning-a-view-versus-a-copy\n",
      "  orders['order_timestamp'] = orders.apply(lambda x : str(x['order_date'].date()) + ' ' + str(x['order_time']), axis=1)\n"
     ]
    }
   ],
   "source": [
    "orders['order_timestamp'] = orders.apply(lambda x : str(x['order_date'].date()) + ' ' + str(x['order_time']), axis=1)"
   ]
  },
  {
   "cell_type": "markdown",
   "id": "ec18ebb7-81dc-4b03-a12b-2d521fb197fe",
   "metadata": {},
   "source": [
    "### Rearrange the columns and drop *order_date* and *order_time* columns:"
   ]
  },
  {
   "cell_type": "code",
   "execution_count": 44,
   "id": "210943cc-8cd3-4b24-910a-6e14cf5831f1",
   "metadata": {},
   "outputs": [],
   "source": [
    "orders = orders[['order_id', 'order_timestamp', 'pizza_id', 'pizza_size', 'quantity']]"
   ]
  },
  {
   "cell_type": "code",
   "execution_count": 45,
   "id": "ff00b19f-7e94-41a7-8a6c-6cbe787d82a8",
   "metadata": {},
   "outputs": [
    {
     "data": {
      "text/html": [
       "<div>\n",
       "<style scoped>\n",
       "    .dataframe tbody tr th:only-of-type {\n",
       "        vertical-align: middle;\n",
       "    }\n",
       "\n",
       "    .dataframe tbody tr th {\n",
       "        vertical-align: top;\n",
       "    }\n",
       "\n",
       "    .dataframe thead th {\n",
       "        text-align: right;\n",
       "    }\n",
       "</style>\n",
       "<table border=\"1\" class=\"dataframe\">\n",
       "  <thead>\n",
       "    <tr style=\"text-align: right;\">\n",
       "      <th></th>\n",
       "      <th>order_id</th>\n",
       "      <th>order_timestamp</th>\n",
       "      <th>pizza_id</th>\n",
       "      <th>pizza_size</th>\n",
       "      <th>quantity</th>\n",
       "    </tr>\n",
       "  </thead>\n",
       "  <tbody>\n",
       "    <tr>\n",
       "      <th>40030</th>\n",
       "      <td>17627</td>\n",
       "      <td>2015-10-28 11:45:05</td>\n",
       "      <td>2</td>\n",
       "      <td>M</td>\n",
       "      <td>1</td>\n",
       "    </tr>\n",
       "    <tr>\n",
       "      <th>8561</th>\n",
       "      <td>3749</td>\n",
       "      <td>2015-03-04 21:02:21</td>\n",
       "      <td>31</td>\n",
       "      <td>M</td>\n",
       "      <td>1</td>\n",
       "    </tr>\n",
       "    <tr>\n",
       "      <th>7207</th>\n",
       "      <td>3179</td>\n",
       "      <td>2015-02-23 12:41:52</td>\n",
       "      <td>25</td>\n",
       "      <td>M</td>\n",
       "      <td>1</td>\n",
       "    </tr>\n",
       "  </tbody>\n",
       "</table>\n",
       "</div>"
      ],
      "text/plain": [
       "       order_id      order_timestamp pizza_id pizza_size  quantity\n",
       "40030     17627  2015-10-28 11:45:05        2          M         1\n",
       "8561       3749  2015-03-04 21:02:21       31          M         1\n",
       "7207       3179  2015-02-23 12:41:52       25          M         1"
      ]
     },
     "execution_count": 45,
     "metadata": {},
     "output_type": "execute_result"
    }
   ],
   "source": [
    "orders.sample(3)"
   ]
  },
  {
   "cell_type": "code",
   "execution_count": 46,
   "id": "fd14946d-8502-4b7f-959d-a313a3b06904",
   "metadata": {},
   "outputs": [
    {
     "data": {
      "text/html": [
       "<div>\n",
       "<style scoped>\n",
       "    .dataframe tbody tr th:only-of-type {\n",
       "        vertical-align: middle;\n",
       "    }\n",
       "\n",
       "    .dataframe tbody tr th {\n",
       "        vertical-align: top;\n",
       "    }\n",
       "\n",
       "    .dataframe thead th {\n",
       "        text-align: right;\n",
       "    }\n",
       "</style>\n",
       "<table border=\"1\" class=\"dataframe\">\n",
       "  <thead>\n",
       "    <tr style=\"text-align: right;\">\n",
       "      <th></th>\n",
       "      <th>order_id</th>\n",
       "      <th>order_timestamp</th>\n",
       "      <th>pizza_id</th>\n",
       "      <th>pizza_size</th>\n",
       "      <th>quantity</th>\n",
       "    </tr>\n",
       "  </thead>\n",
       "  <tbody>\n",
       "    <tr>\n",
       "      <th>0</th>\n",
       "      <td>1</td>\n",
       "      <td>2015-01-01 11:38:36</td>\n",
       "      <td>1</td>\n",
       "      <td>M</td>\n",
       "      <td>1</td>\n",
       "    </tr>\n",
       "    <tr>\n",
       "      <th>1</th>\n",
       "      <td>2</td>\n",
       "      <td>2015-01-01 11:57:40</td>\n",
       "      <td>2</td>\n",
       "      <td>M</td>\n",
       "      <td>1</td>\n",
       "    </tr>\n",
       "    <tr>\n",
       "      <th>2</th>\n",
       "      <td>2</td>\n",
       "      <td>2015-01-01 11:57:40</td>\n",
       "      <td>3</td>\n",
       "      <td>L</td>\n",
       "      <td>1</td>\n",
       "    </tr>\n",
       "    <tr>\n",
       "      <th>3</th>\n",
       "      <td>2</td>\n",
       "      <td>2015-01-01 11:57:40</td>\n",
       "      <td>4</td>\n",
       "      <td>L</td>\n",
       "      <td>1</td>\n",
       "    </tr>\n",
       "    <tr>\n",
       "      <th>4</th>\n",
       "      <td>2</td>\n",
       "      <td>2015-01-01 11:57:40</td>\n",
       "      <td>5</td>\n",
       "      <td>M</td>\n",
       "      <td>1</td>\n",
       "    </tr>\n",
       "  </tbody>\n",
       "</table>\n",
       "</div>"
      ],
      "text/plain": [
       "   order_id      order_timestamp pizza_id pizza_size  quantity\n",
       "0         1  2015-01-01 11:38:36        1          M         1\n",
       "1         2  2015-01-01 11:57:40        2          M         1\n",
       "2         2  2015-01-01 11:57:40        3          L         1\n",
       "3         2  2015-01-01 11:57:40        4          L         1\n",
       "4         2  2015-01-01 11:57:40        5          M         1"
      ]
     },
     "execution_count": 46,
     "metadata": {},
     "output_type": "execute_result"
    }
   ],
   "source": [
    "orders.head()"
   ]
  },
  {
   "cell_type": "markdown",
   "id": "d7050952-51f5-457e-9fe8-6c940bfb9a04",
   "metadata": {},
   "source": [
    "As we can see, there are repeating order_id and order_timestamp values. This is due to the fact that in the same order, several pizza categories and sizes were ordered. This fact invalidates both pizza_id and order_timestamp as primary keys."
   ]
  },
  {
   "cell_type": "markdown",
   "id": "f83f155c-0377-4acd-9f74-6221e49fbef1",
   "metadata": {},
   "source": [
    "## Export to csv files"
   ]
  },
  {
   "cell_type": "code",
   "execution_count": 47,
   "id": "d0d588ea-f59d-43f0-abbf-c02be278e033",
   "metadata": {},
   "outputs": [],
   "source": [
    "pizzas.to_csv('pizzas.csv', index = False)"
   ]
  },
  {
   "cell_type": "code",
   "execution_count": 48,
   "id": "8ef2e79b-a843-42d0-91ba-16edd5d636f8",
   "metadata": {},
   "outputs": [],
   "source": [
    "ingredients.to_csv('ingredients.csv', index = False)"
   ]
  },
  {
   "cell_type": "code",
   "execution_count": 49,
   "id": "7002acc6-f9cc-4bf9-8aa2-bb999d015bad",
   "metadata": {},
   "outputs": [],
   "source": [
    "pizza_ingredients.to_csv('pizza_ingredients.csv', index = False)"
   ]
  },
  {
   "cell_type": "code",
   "execution_count": 50,
   "id": "9f9216f7-1ab5-473a-8131-40f934b32420",
   "metadata": {},
   "outputs": [],
   "source": [
    "pizza_prices.to_csv('pizza_prices.csv', index = False)"
   ]
  },
  {
   "cell_type": "code",
   "execution_count": 51,
   "id": "cf415219-fce4-47d5-9b90-566f82974ab0",
   "metadata": {},
   "outputs": [],
   "source": [
    "orders.to_csv('orders.csv', index = False)"
   ]
  },
  {
   "cell_type": "markdown",
   "id": "aab62380-7cc4-4393-b233-91a907832209",
   "metadata": {},
   "source": [
    "## Generate the copy commands to insert values from csv into tables using pslq"
   ]
  },
  {
   "cell_type": "code",
   "execution_count": 54,
   "id": "d4aedf22-76e8-483f-8ee5-3802700120e4",
   "metadata": {},
   "outputs": [
    {
     "name": "stdout",
     "output_type": "stream",
     "text": [
      "-- Insert values into table: pizzas , from pizzas.csv file\n",
      "\n",
      "copy pizzas from '/home/debian/data/pgdata/pizzeria/pizzas.csv' with csv header ;\n",
      "\n",
      "-- Insert values into table: ingredients , from ingredients.csv file\n",
      "\n",
      "copy ingredients from '/home/debian/data/pgdata/pizzeria/ingredients.csv' with csv header ;\n",
      "\n",
      "-- Insert values into table: pizza_ingredients , from pizza_ingredients.csv file\n",
      "\n",
      "copy pizza_ingredients from '/home/debian/data/pgdata/pizzeria/pizza_ingredients.csv' with csv header ;\n",
      "\n",
      "-- Insert values into table: pizza_prices , from pizza_prices.csv file\n",
      "\n",
      "copy pizza_prices from '/home/debian/data/pgdata/pizzeria/pizza_prices.csv' with csv header ;\n",
      "\n",
      "-- Insert values into table: orders , from orders.csv file\n",
      "\n",
      "copy orders from '/home/debian/data/pgdata/pizzeria/orders.csv' with csv header ;\n",
      "\n"
     ]
    }
   ],
   "source": [
    "for t in ['pizzas', 'ingredients', 'pizza_ingredients', 'pizza_prices', 'orders'] :\n",
    "    print(f\"-- Insert values into table: {t} , from {t}.csv file\\n\")\n",
    "    print(f\"copy {t} from '/home/debian/data/pgdata/pizzeria/{t}.csv' with csv header ;\\n\") "
   ]
  },
  {
   "cell_type": "code",
   "execution_count": null,
   "id": "baae444b-4fb6-4061-830e-741c09a131c9",
   "metadata": {},
   "outputs": [],
   "source": []
  }
 ],
 "metadata": {
  "kernelspec": {
   "display_name": "Python 3 (ipykernel)",
   "language": "python",
   "name": "python3"
  },
  "language_info": {
   "codemirror_mode": {
    "name": "ipython",
    "version": 3
   },
   "file_extension": ".py",
   "mimetype": "text/x-python",
   "name": "python",
   "nbconvert_exporter": "python",
   "pygments_lexer": "ipython3",
   "version": "3.11.8"
  }
 },
 "nbformat": 4,
 "nbformat_minor": 5
}
