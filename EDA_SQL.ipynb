{
 "cells": [
  {
   "cell_type": "markdown",
   "id": "06df3ee8-e58e-4035-a096-97fee761ee01",
   "metadata": {},
   "source": [
    "Inspiration: data analysis performed by [Github repository](https://github.com/Dnyanesh-NITW/pizza-sales-analysis-using-sql)"
   ]
  },
  {
   "cell_type": "markdown",
   "id": "36d41c7d-911b-4efc-845c-7a84c9cce658",
   "metadata": {},
   "source": [
    "3. DATA ANALYSIS USING SQL\n",
    "3.1 PROBLEM STATEMENTS\n",
    "KPI’s REQUIREMENT\n",
    "\tWe need to analyze key performance indicators for our pizza sales data to gain insights into our business performance. Specifically, we want to calculate following metrics;\n",
    "Total Revenue\n",
    "Average Order Value\n",
    "Total Pizza Sold\n",
    "Total Orders\n",
    "Average Pizzas Per Order\n",
    "SECTOR WISE ANALYSIS\n",
    "Sales Performance Analysis\n",
    "\n",
    "\n",
    "What is the average unit price and revenue of pizza across different categories?\n",
    "What is the average unit price and revenue of pizza across different sizes?\n",
    "What is the average unit price and revenue of most sold 3 pizzas?\n",
    "\n",
    "\n",
    "Seasonal Analysis\n",
    "\n",
    "\n",
    "Which days of the week have the highest number of orders?\n",
    "At what time do most orders occur?\n",
    "Which month has the highest revenue?\n",
    "Which season has the highest revenue?\n",
    "\n",
    "\n",
    "Customer Behavior Analysis\n",
    "\n",
    "\n",
    "Which pizza is the favorite of customers (most ordered pizza)?\n",
    "Which pizza is ordered the most number of times?\n",
    "Which pizza size is preferred by customers?\n",
    "Which pizza category is preferred by customers?\n",
    "\n",
    "\n",
    "Pizza Analysis\n",
    "\n",
    "\n",
    "The pizza with the least price and highest price\n",
    "Number of pizzas per category\n",
    "Number of pizzas per size\n",
    "Pizzas with more than one category\n"
   ]
  },
  {
   "cell_type": "code",
   "execution_count": null,
   "id": "1a86644b-0557-48c8-a73a-2ef64106d08c",
   "metadata": {},
   "outputs": [],
   "source": []
  }
 ],
 "metadata": {
  "kernelspec": {
   "display_name": "Python 3 (ipykernel)",
   "language": "python",
   "name": "python3"
  },
  "language_info": {
   "codemirror_mode": {
    "name": "ipython",
    "version": 3
   },
   "file_extension": ".py",
   "mimetype": "text/x-python",
   "name": "python",
   "nbconvert_exporter": "python",
   "pygments_lexer": "ipython3",
   "version": "3.11.8"
  }
 },
 "nbformat": 4,
 "nbformat_minor": 5
}
